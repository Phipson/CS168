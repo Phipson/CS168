{
  "nbformat": 4,
  "nbformat_minor": 0,
  "metadata": {
    "colab": {
      "name": "GANTesting.ipynb",
      "provenance": [],
      "collapsed_sections": [
        "OBJ9gipMmX0J",
        "bCIOc2s7BF2J",
        "vea9ReQK_QTq",
        "0E-vMVmXDRTh",
        "-QIwrcAmLqyR",
        "jKeo_h2oiG-G"
      ],
      "toc_visible": true
    },
    "kernelspec": {
      "name": "python3",
      "display_name": "Python 3"
    }
  },
  "cells": [
    {
      "cell_type": "markdown",
      "metadata": {
        "id": "McFcW4g_FZbz",
        "colab_type": "text"
      },
      "source": [
        "## **Synthesizing Data from RIRE**"
      ]
    },
    {
      "cell_type": "code",
      "metadata": {
        "id": "KbtEe6xhPI82",
        "colab_type": "code",
        "outputId": "320d52b2-bd83-4382-d6f3-fc7a6b97a2f1",
        "colab": {
          "base_uri": "https://localhost:8080/",
          "height": 122
        }
      },
      "source": [
        "# Ran on Google Colab\n",
        "from google.colab import drive\n",
        "drive.mount('/content/drive')"
      ],
      "execution_count": 0,
      "outputs": [
        {
          "output_type": "stream",
          "text": [
            "Go to this URL in a browser: https://accounts.google.com/o/oauth2/auth?client_id=947318989803-6bn6qk8qdgf4n4g3pfee6491hc0brc4i.apps.googleusercontent.com&redirect_uri=urn%3aietf%3awg%3aoauth%3a2.0%3aoob&response_type=code&scope=email%20https%3a%2f%2fwww.googleapis.com%2fauth%2fdocs.test%20https%3a%2f%2fwww.googleapis.com%2fauth%2fdrive%20https%3a%2f%2fwww.googleapis.com%2fauth%2fdrive.photos.readonly%20https%3a%2f%2fwww.googleapis.com%2fauth%2fpeopleapi.readonly\n",
            "\n",
            "Enter your authorization code:\n",
            "··········\n",
            "Mounted at /content/drive\n"
          ],
          "name": "stdout"
        }
      ]
    },
    {
      "cell_type": "code",
      "metadata": {
        "id": "BegANmdJFqq1",
        "colab_type": "code",
        "outputId": "46b8f0ff-b9d8-4dca-ab06-004f858a591a",
        "colab": {
          "base_uri": "https://localhost:8080/",
          "height": 309
        }
      },
      "source": [
        "!pip install SimpleITK\n",
        "!pip install Pillow\n",
        "!pip install pypng"
      ],
      "execution_count": 0,
      "outputs": [
        {
          "output_type": "stream",
          "text": [
            "Collecting SimpleITK\n",
            "\u001b[?25l  Downloading https://files.pythonhosted.org/packages/f8/d8/53338c34f71020725ffb3557846c80af96c29c03bc883551a2565aa68a7c/SimpleITK-1.2.4-cp36-cp36m-manylinux1_x86_64.whl (42.5MB)\n",
            "\u001b[K     |████████████████████████████████| 42.5MB 104kB/s \n",
            "\u001b[?25hInstalling collected packages: SimpleITK\n",
            "Successfully installed SimpleITK-1.2.4\n",
            "Requirement already satisfied: Pillow in /usr/local/lib/python3.6/dist-packages (7.0.0)\n",
            "Collecting pypng\n",
            "\u001b[?25l  Downloading https://files.pythonhosted.org/packages/bc/fb/f719f1ac965e2101aa6ea6f54ef8b40f8fbb033f6ad07c017663467f5147/pypng-0.0.20.tar.gz (649kB)\n",
            "\u001b[K     |████████████████████████████████| 655kB 3.5MB/s \n",
            "\u001b[?25hBuilding wheels for collected packages: pypng\n",
            "  Building wheel for pypng (setup.py) ... \u001b[?25l\u001b[?25hdone\n",
            "  Created wheel for pypng: filename=pypng-0.0.20-cp36-none-any.whl size=67161 sha256=11eb5fb96b8b04ad6293e4d11f715dec45dc6a3d71f12bfb055b0008231077f7\n",
            "  Stored in directory: /root/.cache/pip/wheels/41/6b/ef/0493b536b6d4722c2ae9486691b1d49b922b9877922beeabb3\n",
            "Successfully built pypng\n",
            "Installing collected packages: pypng\n",
            "Successfully installed pypng-0.0.20\n"
          ],
          "name": "stdout"
        }
      ]
    },
    {
      "cell_type": "code",
      "metadata": {
        "id": "fzkhW9B5JFh9",
        "colab_type": "code",
        "colab": {}
      },
      "source": [
        "import os, sys, tarfile\n",
        "\n",
        "# Modify tgz_path based on where the tar file is uploaded\n",
        "tgz_path = \"./RIREImageDataset.tar\"\n",
        "\n",
        "def extract(tar_url, extract_path='.'):\n",
        "    print(tar_url)\n",
        "    tar = tarfile.open(tar_url)\n",
        "    tar.extractall('.')\n",
        "    for subTar in tar.getmembers():\n",
        "      print(subTar.name)\n",
        "      if '.tgz' in subTar.name:\n",
        "        subTar = tarfile.open('{}'.format(subTar.name))\n",
        "        subTar.extractall('./drive/My Drive/CS168 Research/RIREDataset/')\n",
        "        for item in subTar.getmembers():\n",
        "          print(item.name)\n",
        "          if '.tar.gz' in item.name:\n",
        "            item = tarfile.open('./drive/My Drive/CS168 Research/RIREDataset/{}'.format(item.name))\n",
        "            item.extractall('./drive/My Drive/CS168 Research/RIREDataset/{}/'.format(subTar.name.split(\".tgz\")[0].split(\"RIREDataset/\")[1]))\n",
        "            os.remove(item.name)\n",
        "        os.remove(subTar.name)\n",
        "\n",
        "extract(tgz_path)"
      ],
      "execution_count": 0,
      "outputs": []
    },
    {
      "cell_type": "code",
      "metadata": {
        "id": "4_T62DSqJxe0",
        "colab_type": "code",
        "colab": {}
      },
      "source": [
        "# %rm -rf RIREDataset/ Only ran this to remove previously failed iterations"
      ],
      "execution_count": 0,
      "outputs": []
    },
    {
      "cell_type": "code",
      "metadata": {
        "id": "_dV2flouFelH",
        "colab_type": "code",
        "colab": {}
      },
      "source": [
        "import io\n",
        "import numpy as np\n",
        "import cv2\n",
        "import sys\n",
        "import SimpleITK as sitk\n",
        "import matplotlib.pyplot as plt\n",
        "\n",
        "%matplotlib inline\n",
        "\n",
        "def load_itk(filename):\n",
        "    # Reads the image using SimpleITK\n",
        "    itkimage = sitk.ReadImage(filename)\n",
        "\n",
        "    # Convert the image to a  numpy array first and then shuffle the dimensions to get axis in the order z,y,x\n",
        "    ct_scan = sitk.GetArrayFromImage(itkimage)\n",
        "\n",
        "    # Read the origin of the ct_scan, will be used to convert the coordinates from world to voxel and vice versa.\n",
        "    origin = np.array(list(reversed(itkimage.GetOrigin())))\n",
        "\n",
        "    # Read the spacing along each dimension\n",
        "    spacing = np.array(list(reversed(itkimage.GetSpacing())))\n",
        "\n",
        "    return itkimage, ct_scan, origin, spacing\n",
        "\n",
        "# img, ct_scan, origin, spacing = load_itk(\"./drive/My Drive/CS168 Research/RIREDataset/training_001/mr_T1/training_001_mr_T1.mhd\")\n",
        "\n",
        "# for i in range(len(ct_scan)):\n",
        "#   plt.imshow(ct_scan[i])\n"
      ],
      "execution_count": 0,
      "outputs": []
    },
    {
      "cell_type": "code",
      "metadata": {
        "id": "AA_OOBFSgXk4",
        "colab_type": "code",
        "colab": {}
      },
      "source": [
        "from pathlib import Path\n",
        "from PIL import Image\n",
        "import os.path\n",
        "import imageio\n",
        "import cv2\n",
        "import numpy as np\n",
        "\n",
        "# Replace the paths with the desired paths for writing RIRE images\n",
        "Path(\"./drive/My Drive/CS168 Research/RIRECT\").mkdir(parents=True, exist_ok=True)\n",
        "Path(\"./drive/My Drive/CS168 Research/RIREMRI_T1\").mkdir(parents=True, exist_ok=True)\n",
        "Path(\"./drive/My Drive/CS168 Research/RIREMRI_T2\").mkdir(parents=True, exist_ok=True)\n",
        "Path(\"./drive/My Drive/CS168 Research/RIREMRI_PD\").mkdir(parents=True, exist_ok=True)\n",
        "\n",
        "# Replace the path with the path containing the unzipped RIREDataset folder\n",
        "for path in Path('./drive/My Drive/CS168 Research/RIREDataset').rglob('*.mhd'):\n",
        "    print(path.absolute())\n",
        "    img, scan, origin, spacing = load_itk(str(path.absolute()))\n",
        "    name = path.name.split(\"/\")[-1].split(\".mhd\")[0]\n",
        "    print(name)\n",
        "    if \"T1\" in name:\n",
        "      dirPath = \"./drive/My Drive/CS168 Research/RIREMRI_T1\"\n",
        "    elif \"T2\" in name:\n",
        "      dirPath = \"./drive/My Drive/CS168 Research/RIREMRI_T2\"\n",
        "    elif \"PD\" in name:\n",
        "      dirPath = \"./drive/My Drive/CS168 Research/RIREMRI_PD\"\n",
        "    elif \"_ct\" in name and \"rectified\" not in name:\n",
        "      dirPath = \"./drive/My Drive/CS168 Research/RIRECT\"\n",
        "    else:\n",
        "      dirPath = \"\"\n",
        "      continue\n",
        "\n",
        "    for i in range(len(scan)):\n",
        "      scan_img = cv2.normalize(scan[i], scan_img, 0, 255, cv2.NORM_MINMAX)\n",
        "\n",
        "      pathName = \"{}/{}_{}.jpg\".format(dirPath, name, i)\n",
        "      imageio.imwrite(pathName, scan_img)\n"
      ],
      "execution_count": 0,
      "outputs": []
    },
    {
      "cell_type": "code",
      "metadata": {
        "id": "swJlVI1FrR3g",
        "colab_type": "code",
        "colab": {}
      },
      "source": [
        "# Replace file paths accordingly\n",
        "# Download zip file afterwards\n",
        "!zip -r ./drive/My\\ Drive/CS168\\ Research/RIREImageDatasetNII.zip ./drive/My\\ Drive/CS168\\ Research/RIRECT ./drive/My\\ Drive/CS168\\ Research/RIREMRI_T2 ./drive/My\\ Drive/CS168\\ Research/RIREMRI_T1 ./drive/My\\ Drive/CS168\\ Research/RIREMRI_PD"
      ],
      "execution_count": 0,
      "outputs": []
    },
    {
      "cell_type": "code",
      "metadata": {
        "id": "kJxtc34Zkc2N",
        "colab_type": "code",
        "colab": {}
      },
      "source": [
        "# Only execute this cell if there was a preprocessing error and you want to remove the images\n",
        "# import shutil\n",
        "\n",
        "# path1 = \"./drive/My Drive/CS168 Research/RIRECT\"\n",
        "# path2 = \"./drive/My Drive/CS168 Research/RIREMRI_T2\"\n",
        "# path3 = \"./drive/My Drive/CS168 Research/RIREMRI_T1\"\n",
        "# path4 = \"./drive/My Drive/CS168 Research/RIREMRI_PD\"\n",
        "\n",
        "# try:\n",
        "#     shutil.rmtree(path1)\n",
        "#     shutil.rmtree(path2)\n",
        "#     shutil.rmtree(path3)\n",
        "#     shutil.rmtree(path4)\n",
        "# except OSError as e:\n",
        "#     print(\"Error: %s\" % (e.strerror))"
      ],
      "execution_count": 0,
      "outputs": []
    }
  ]
}